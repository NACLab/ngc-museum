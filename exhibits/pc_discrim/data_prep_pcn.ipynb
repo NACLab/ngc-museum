{
  "cells": [
    {
      "cell_type": "code",
      "execution_count": 1,
      "metadata": {
        "id": "Z8ele2X8mWPJ"
      },
      "outputs": [],
      "source": [
        "import pandas as pd\n",
        "import numpy as np\n",
        "\n",
        "#from transformers import AutoTokenizer, AutoModelForSequenceClassification, Trainer\n"
      ]
    },
    {
      "cell_type": "code",
      "execution_count": null,
      "metadata": {
        "colab": {
          "base_uri": "https://localhost:8080/"
        },
        "id": "0SPOmZlCofyb",
        "outputId": "bba4ca73-c70f-4ef1-c9db-05dc41be14d0"
      },
      "outputs": [
        {
          "name": "stderr",
          "output_type": "stream",
          "text": [
            "/usr/local/lib/python3.10/dist-packages/huggingface_hub/utils/_token.py:89: UserWarning: \n",
            "The secret `HF_TOKEN` does not exist in your Colab secrets.\n",
            "To authenticate with the Hugging Face Hub, create a token in your settings tab (https://huggingface.co/settings/tokens), set it as secret in your Google Colab and restart your session.\n",
            "You will be able to reuse this secret in all of your notebooks.\n",
            "Please note that authentication is recommended but still optional to access public models or datasets.\n",
            "  warnings.warn(\n",
            "/usr/local/lib/python3.10/dist-packages/transformers/tokenization_utils_base.py:1601: FutureWarning: `clean_up_tokenization_spaces` was not set. It will be set to `True` by default. This behavior will be depracted in transformers v4.45, and will be then set to `False` by default. For more details check this issue: https://github.com/huggingface/transformers/issues/31884\n",
            "  warnings.warn(\n",
            "Some weights of DistilBertForSequenceClassification were not initialized from the model checkpoint at distilbert-base-uncased and are newly initialized: ['classifier.bias', 'classifier.weight', 'pre_classifier.bias', 'pre_classifier.weight']\n",
            "You should probably TRAIN this model on a down-stream task to be able to use it for predictions and inference.\n"
          ]
        }
      ],
      "source": [
        "# from google.colab import drive\n",
        "# drive.mount('/content/drive')\n",
        "model_name = \"distilbert-base-uncased\"\n",
        "tokenizer = AutoTokenizer.from_pretrained(model_name)\n",
        "model = AutoModelForSequenceClassification.from_pretrained(model_name)\n",
        "trainer = Trainer(model=model)"
      ]
    },
    {
      "cell_type": "code",
      "execution_count": null,
      "metadata": {
        "id": "OdGnAm7OnQoo"
      },
      "outputs": [],
      "source": [
        "\n",
        "\n",
        "df = pd.read_csv(\"/content/drive/MyDrive/train.csv\")\n",
        "df = df.iloc[:, 0:3]\n",
        "\n",
        "df.columns = [\"classIndex\", \"title\", \"description\"]\n",
        "df_cleaned = df.dropna(how='any')\n",
        "df['description'] = df['description'].fillna(\"\").astype(str)\n",
        "description = df['description'].tolist()\n",
        "train_encoded = tokenizer(description, padding=True,  truncation=True,max_length=372 , return_tensors=\"pt\")"
      ]
    },
    {
      "cell_type": "code",
      "execution_count": null,
      "metadata": {
        "id": "t_fdeSJ9pY6G"
      },
      "outputs": [],
      "source": [
        "input_ids = train_encoded[\"input_ids\"]\n",
        "input_ids_array = input_ids.cpu().numpy().astype(np.int16)\n",
        "np.savez_compressed(\"train_compressed.npz\", trainX=input_ids_array)"
      ]
    },
    {
      "cell_type": "code",
      "execution_count": null,
      "metadata": {
        "id": "aB91ULnsqKpv"
      },
      "outputs": [],
      "source": [
        "df2 = pd.read_csv(\"/content/drive/MyDrive/test.csv\")\n",
        "df2 = df2.iloc[:, 0:3]\n",
        "\n",
        "df2.columns = [\"classIndex\", \"title\", \"description\"]\n",
        "df2_cleaned = df2.dropna(how='any')\n",
        "df2['description'] = df2['description'].fillna(\"\").astype(str)\n",
        "description2 = df2['description'].tolist()\n",
        "test_encoded = tokenizer(description2, padding='max_length', truncation=True, max_length=372, return_tensors=\"pt\")"
      ]
    },
    {
      "cell_type": "code",
      "execution_count": null,
      "metadata": {
        "id": "2ni_nSHDrlFk"
      },
      "outputs": [],
      "source": [
        "input_ids2 = test_encoded[\"input_ids\"]\n",
        "input_ids2_array = input_ids2.cpu().numpy().astype(np.int16)\n",
        "np.save('testX.npy', input_ids2)"
      ]
    },
    {
      "cell_type": "code",
      "execution_count": null,
      "metadata": {
        "id": "BKj-nwyouYuF"
      },
      "outputs": [],
      "source": [
        "train_y = df[\"classIndex\"].to_list()\n",
        "test_y = df2[\"classIndex\"].to_list()\n",
        "print(train_y)\n",
        "print(test_y)"
      ]
    },
    {
      "cell_type": "code",
      "execution_count": null,
      "metadata": {
        "id": "VmsN4vX30zKt"
      },
      "outputs": [],
      "source": [
        "print(len(description), len(description2))\n",
        "print(len(test_y), len(train_y))"
      ]
    },
    {
      "cell_type": "code",
      "execution_count": null,
      "metadata": {
        "id": "PhJK81Iq1HGi"
      },
      "outputs": [],
      "source": [
        "np.savez_compressed(\"trainY.npz\", trainY=train_y)\n",
        "np.savez_compressed(\"testY.npz\", testY=test_y)"
      ]
    },
    {
      "cell_type": "code",
      "execution_count": 13,
      "metadata": {},
      "outputs": [],
      "source": [
        "def one_hot_encoding(value):\n",
        "    take_zeros = np.zeros(4, dtype=int)\n",
        "    take_zeros[value - 1] = 1\n",
        "    return take_zeros"
      ]
    },
    {
      "cell_type": "code",
      "execution_count": 14,
      "metadata": {},
      "outputs": [],
      "source": [
        "trainY = np.load(\"../../data/ag_news_dataset/trainY.npy\")\n",
        "testY = np.load(\"../../data/ag_news_dataset/testY.npy\")"
      ]
    },
    {
      "cell_type": "code",
      "execution_count": 15,
      "metadata": {},
      "outputs": [
        {
          "name": "stdout",
          "output_type": "stream",
          "text": [
            "[3 3 3 ... 2 2 2]\n"
          ]
        }
      ],
      "source": [
        "print(trainY)"
      ]
    },
    {
      "cell_type": "code",
      "execution_count": 16,
      "metadata": {},
      "outputs": [
        {
          "name": "stdout",
          "output_type": "stream",
          "text": [
            "[3 4 4 ... 2 3 3]\n"
          ]
        }
      ],
      "source": [
        "print(testY)"
      ]
    },
    {
      "cell_type": "code",
      "execution_count": 18,
      "metadata": {},
      "outputs": [],
      "source": [
        "trainY = np.asarray([one_hot_encoding(val) for val in trainY])\n",
        "testY = np.asarray[one_hot_encoding(val) for val in testY])"
      ]
    },
    {
      "cell_type": "code",
      "execution_count": null,
      "metadata": {},
      "outputs": [],
      "source": []
    }
  ],
  "metadata": {
    "accelerator": "GPU",
    "colab": {
      "gpuType": "T4",
      "provenance": []
    },
    "kernelspec": {
      "display_name": "Python 3",
      "name": "python3"
    },
    "language_info": {
      "codemirror_mode": {
        "name": "ipython",
        "version": 3
      },
      "file_extension": ".py",
      "mimetype": "text/x-python",
      "name": "python",
      "nbconvert_exporter": "python",
      "pygments_lexer": "ipython3",
      "version": "3.12.3"
    }
  },
  "nbformat": 4,
  "nbformat_minor": 0
}
